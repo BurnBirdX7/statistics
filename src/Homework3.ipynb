{
 "cells": [
  {
   "cell_type": "code",
   "execution_count": 46,
   "metadata": {
    "ExecuteTime": {
     "end_time": "2023-05-27T23:54:43.793210400Z",
     "start_time": "2023-05-27T23:54:43.775115600Z"
    }
   },
   "outputs": [],
   "source": [
    "import numpy as np\n",
    "import pandas as pd\n",
    "import scipy.stats as st\n",
    "import statsmodels.api as sm\n",
    "from statsmodels.formula.api import ols\n",
    "from statsmodels.stats.anova import anova_lm"
   ]
  },
  {
   "cell_type": "markdown",
   "metadata": {},
   "source": [
    "### Тесты\n",
    "1) **ANOVA** – тест, предназначенный для сравнения средних значений между группами. Может сравнивать различие по одной категорной переменной, по паре, по их взаимодействию, а также с учётом зависимых измерений. Требует нормальности остатков, гомогенности дисперсий, а также достаточно большого количества.\n",
    "2) **Тест Тьюки** определяет, состоит ли ваша выборка из групп, которые отличаются друг от друга. Каждое среднее сравнивается со средним всех других групп с помощью \"Честной значимой разницы\", которая показывает, насколько далеко друг от друга находятся группы. Нередко используется для анализа результатов, полученных с помощью ANOVA (можно проверять предположения, сделанные на основе визуального анализа – что среднее одной группы превосходит среднее по всем остальным).\n"
   ]
  },
  {
   "cell_type": "markdown",
   "metadata": {},
   "source": [
    "# Задача 1. Сравнение эффективности программ подготовки к экзаменам.\n",
    "Предположим, что мы хотим узнать, одинаковы ли по эффективности три разных программ подготовки к экзаменам. Ниже приведена таблица с оценками студентов, обучавшихся по соответственным программам.\n",
    "\n",
    "![(Таблица)](hw3_task1_table.png)\n",
    "\n",
    "Проведите анализ того, различаются ли программы по эффективности и\n",
    "предположите, какая из них наилучшая/наихудшая. Оба пункта следует\n",
    "подкрепить соответствующими методами."
   ]
  },
  {
   "cell_type": "markdown",
   "metadata": {},
   "source": [
    "## Решение\n",
    "\n",
    "Для данной задачи подходит _тест Тьюки_ так как он позволяет определить насколько группы различны."
   ]
  },
  {
   "cell_type": "code",
   "execution_count": 83,
   "metadata": {
    "ExecuteTime": {
     "end_time": "2023-05-28T00:40:23.249528800Z",
     "start_time": "2023-05-28T00:40:23.228809800Z"
    }
   },
   "outputs": [
    {
     "data": {
      "text/plain": "   group 1  group 2  group 3\n0       85       91       79\n1       86       92       78\n2       88       93       88\n3       75       85       94\n4       78       87       92\n5       94       84       85\n6       98       82       83\n7       79       88       85\n8       71       95       82\n9       80       96       81",
      "text/html": "<div>\n<style scoped>\n    .dataframe tbody tr th:only-of-type {\n        vertical-align: middle;\n    }\n\n    .dataframe tbody tr th {\n        vertical-align: top;\n    }\n\n    .dataframe thead th {\n        text-align: right;\n    }\n</style>\n<table border=\"1\" class=\"dataframe\">\n  <thead>\n    <tr style=\"text-align: right;\">\n      <th></th>\n      <th>group 1</th>\n      <th>group 2</th>\n      <th>group 3</th>\n    </tr>\n  </thead>\n  <tbody>\n    <tr>\n      <th>0</th>\n      <td>85</td>\n      <td>91</td>\n      <td>79</td>\n    </tr>\n    <tr>\n      <th>1</th>\n      <td>86</td>\n      <td>92</td>\n      <td>78</td>\n    </tr>\n    <tr>\n      <th>2</th>\n      <td>88</td>\n      <td>93</td>\n      <td>88</td>\n    </tr>\n    <tr>\n      <th>3</th>\n      <td>75</td>\n      <td>85</td>\n      <td>94</td>\n    </tr>\n    <tr>\n      <th>4</th>\n      <td>78</td>\n      <td>87</td>\n      <td>92</td>\n    </tr>\n    <tr>\n      <th>5</th>\n      <td>94</td>\n      <td>84</td>\n      <td>85</td>\n    </tr>\n    <tr>\n      <th>6</th>\n      <td>98</td>\n      <td>82</td>\n      <td>83</td>\n    </tr>\n    <tr>\n      <th>7</th>\n      <td>79</td>\n      <td>88</td>\n      <td>85</td>\n    </tr>\n    <tr>\n      <th>8</th>\n      <td>71</td>\n      <td>95</td>\n      <td>82</td>\n    </tr>\n    <tr>\n      <th>9</th>\n      <td>80</td>\n      <td>96</td>\n      <td>81</td>\n    </tr>\n  </tbody>\n</table>\n</div>"
     },
     "execution_count": 83,
     "metadata": {},
     "output_type": "execute_result"
    }
   ],
   "source": [
    "data = pd.read_csv(\"Task1_data.csv\")\n",
    "data"
   ]
  },
  {
   "cell_type": "code",
   "execution_count": 3,
   "metadata": {
    "ExecuteTime": {
     "end_time": "2023-05-27T22:59:51.166788100Z",
     "start_time": "2023-05-27T22:59:50.950754100Z"
    }
   },
   "outputs": [
    {
     "data": {
      "text/html": [
       "<div>\n",
       "<style scoped>\n",
       "    .dataframe tbody tr th:only-of-type {\n",
       "        vertical-align: middle;\n",
       "    }\n",
       "\n",
       "    .dataframe tbody tr th {\n",
       "        vertical-align: top;\n",
       "    }\n",
       "\n",
       "    .dataframe thead th {\n",
       "        text-align: right;\n",
       "    }\n",
       "</style>\n",
       "<table border=\"1\" class=\"dataframe\">\n",
       "  <thead>\n",
       "    <tr style=\"text-align: right;\">\n",
       "      <th></th>\n",
       "      <th>Group 1</th>\n",
       "      <th>Group 2</th>\n",
       "      <th>Group 3</th>\n",
       "    </tr>\n",
       "  </thead>\n",
       "  <tbody>\n",
       "    <tr>\n",
       "      <th>Group 1</th>\n",
       "      <td>1.000000</td>\n",
       "      <td>0.115991</td>\n",
       "      <td>0.892477</td>\n",
       "    </tr>\n",
       "    <tr>\n",
       "      <th>Group 2</th>\n",
       "      <td>0.115991</td>\n",
       "      <td>1.000000</td>\n",
       "      <td>0.258352</td>\n",
       "    </tr>\n",
       "    <tr>\n",
       "      <th>Group 3</th>\n",
       "      <td>0.892477</td>\n",
       "      <td>0.258352</td>\n",
       "      <td>1.000000</td>\n",
       "    </tr>\n",
       "  </tbody>\n",
       "</table>\n",
       "</div>"
      ],
      "text/plain": [
       "          Group 1   Group 2   Group 3\n",
       "Group 1  1.000000  0.115991  0.892477\n",
       "Group 2  0.115991  1.000000  0.258352\n",
       "Group 3  0.892477  0.258352  1.000000"
      ]
     },
     "execution_count": 3,
     "metadata": {},
     "output_type": "execute_result"
    }
   ],
   "source": [
    "res = st.tukey_hsd(*data.to_numpy().T)\n",
    "groups = ['Group 1', 'Group 2', 'Group 3']\n",
    "pd.DataFrame(res.pvalue, columns=groups, index=groups)"
   ]
  },
  {
   "cell_type": "markdown",
   "metadata": {},
   "source": [
    "$H_0$ - группы не различны. В данном случае мы не можем отвергнуть эту гипотезу ни для одной пары групп. Следовательно, группы примерно одинаковы в плане эффективности.\n",
    "\n",
    "Посмотрим на значение статистики:"
   ]
  },
  {
   "cell_type": "code",
   "execution_count": 4,
   "metadata": {
    "ExecuteTime": {
     "end_time": "2023-05-27T22:59:51.182109400Z",
     "start_time": "2023-05-27T22:59:51.113459400Z"
    }
   },
   "outputs": [
    {
     "data": {
      "text/html": [
       "<div>\n",
       "<style scoped>\n",
       "    .dataframe tbody tr th:only-of-type {\n",
       "        vertical-align: middle;\n",
       "    }\n",
       "\n",
       "    .dataframe tbody tr th {\n",
       "        vertical-align: top;\n",
       "    }\n",
       "\n",
       "    .dataframe thead th {\n",
       "        text-align: right;\n",
       "    }\n",
       "</style>\n",
       "<table border=\"1\" class=\"dataframe\">\n",
       "  <thead>\n",
       "    <tr style=\"text-align: right;\">\n",
       "      <th></th>\n",
       "      <th>Group 1</th>\n",
       "      <th>Group 2</th>\n",
       "      <th>Group 3</th>\n",
       "    </tr>\n",
       "  </thead>\n",
       "  <tbody>\n",
       "    <tr>\n",
       "      <th>Group 1</th>\n",
       "      <td>0.0</td>\n",
       "      <td>-5.9</td>\n",
       "      <td>-1.3</td>\n",
       "    </tr>\n",
       "    <tr>\n",
       "      <th>Group 2</th>\n",
       "      <td>5.9</td>\n",
       "      <td>0.0</td>\n",
       "      <td>4.6</td>\n",
       "    </tr>\n",
       "    <tr>\n",
       "      <th>Group 3</th>\n",
       "      <td>1.3</td>\n",
       "      <td>-4.6</td>\n",
       "      <td>0.0</td>\n",
       "    </tr>\n",
       "  </tbody>\n",
       "</table>\n",
       "</div>"
      ],
      "text/plain": [
       "         Group 1  Group 2  Group 3\n",
       "Group 1      0.0     -5.9     -1.3\n",
       "Group 2      5.9      0.0      4.6\n",
       "Group 3      1.3     -4.6      0.0"
      ]
     },
     "execution_count": 4,
     "metadata": {},
     "output_type": "execute_result"
    }
   ],
   "source": [
    "pd.DataFrame(res.statistic, columns=groups, index=groups)"
   ]
  },
  {
   "cell_type": "markdown",
   "metadata": {},
   "source": [
    "Группа 2 имеет наивысшее среднее из всех значений статистики, но невозможно однозначно называть её лучшей - поскольку ранее заключили, что эффективностью она не отличается от остальных групп.\n",
    "\n",
    "Посмотрим на график:"
   ]
  },
  {
   "cell_type": "code",
   "execution_count": 5,
   "metadata": {
    "ExecuteTime": {
     "end_time": "2023-05-27T22:59:52.189768500Z",
     "start_time": "2023-05-27T22:59:51.136961900Z"
    }
   },
   "outputs": [
    {
     "data": {
      "text/plain": [
       "<Axes: >"
      ]
     },
     "execution_count": 5,
     "metadata": {},
     "output_type": "execute_result"
    },
    {
     "data": {
      "image/png": "[encoded data removed]",
      "text/plain": [
       "<Figure size 640x480 with 1 Axes>"
      ]
     },
     "metadata": {},
     "output_type": "display_data"
    }
   ],
   "source": [
    "data.boxplot()"
   ]
  },
  {
   "cell_type": "markdown",
   "metadata": {},
   "source": [
    "На графике мы видим подтверждение нашему заключению. Среднее группы 2 сильно выше чем среднее других групп, но мы не можем с уверенностью назвать её лучше поскольку максимальное значение принадлежит группе 1."
   ]
  },
  {
   "cell_type": "markdown",
   "metadata": {},
   "source": [
    "# Задача 2. Сравнение эффективности стратегий выращивания растений\n",
    "\n",
    "Было проведено исследование эффективности различных стратегий посева. В исследовании участвовали две категорные переменные: используемое удобрение и плотность посадки. Выяснить, есть ли различие между разными вариантами взращивания, а также провести post-hoc анализ на основе визуализации результатов, который позволит выяснить, как соотносится эффективность стратегий. Оба пункта подкрепить соответствующими тестами.\n",
    "\n",
    "Данные находятся в файле [Task2_data.csv](Task2_data.csv)"
   ]
  },
  {
   "cell_type": "markdown",
   "metadata": {},
   "source": [
    "## Решение\n",
    "\n",
    "У нас есть целевая аудитория - урожайность (`yield`) и 2 категориальные переменные - используемое удобрение (`fertilizer`) и плотность посадки (`density`). Зависимых переменных нет. В данной ситуации мы можем использовать тест _Anova_ (two-way), но сначала проверим есть ли у нас пререквизиты для неё:\n",
    " * Нужно нормальное распределение остатков модели\n",
    " * Нужна гомогенность дисперсии между группами"
   ]
  },
  {
   "cell_type": "code",
   "execution_count": 2,
   "metadata": {
    "ExecuteTime": {
     "end_time": "2023-05-27T22:59:52.272635400Z",
     "start_time": "2023-05-27T22:59:52.194474Z"
    }
   },
   "outputs": [
    {
     "data": {
      "text/html": [
       "<div>\n",
       "<style scoped>\n",
       "    .dataframe tbody tr th:only-of-type {\n",
       "        vertical-align: middle;\n",
       "    }\n",
       "\n",
       "    .dataframe tbody tr th {\n",
       "        vertical-align: top;\n",
       "    }\n",
       "\n",
       "    .dataframe thead th {\n",
       "        text-align: right;\n",
       "    }\n",
       "</style>\n",
       "<table border=\"1\" class=\"dataframe\">\n",
       "  <thead>\n",
       "    <tr style=\"text-align: right;\">\n",
       "      <th></th>\n",
       "      <th>density</th>\n",
       "      <th>fertilizer</th>\n",
       "      <th>yield_data</th>\n",
       "    </tr>\n",
       "  </thead>\n",
       "  <tbody>\n",
       "    <tr>\n",
       "      <th>0</th>\n",
       "      <td>1</td>\n",
       "      <td>1</td>\n",
       "      <td>177.228692</td>\n",
       "    </tr>\n",
       "    <tr>\n",
       "      <th>1</th>\n",
       "      <td>2</td>\n",
       "      <td>1</td>\n",
       "      <td>177.550041</td>\n",
       "    </tr>\n",
       "    <tr>\n",
       "      <th>2</th>\n",
       "      <td>1</td>\n",
       "      <td>1</td>\n",
       "      <td>176.408462</td>\n",
       "    </tr>\n",
       "    <tr>\n",
       "      <th>3</th>\n",
       "      <td>2</td>\n",
       "      <td>1</td>\n",
       "      <td>177.703625</td>\n",
       "    </tr>\n",
       "    <tr>\n",
       "      <th>4</th>\n",
       "      <td>1</td>\n",
       "      <td>1</td>\n",
       "      <td>177.125486</td>\n",
       "    </tr>\n",
       "    <tr>\n",
       "      <th>...</th>\n",
       "      <td>...</td>\n",
       "      <td>...</td>\n",
       "      <td>...</td>\n",
       "    </tr>\n",
       "    <tr>\n",
       "      <th>91</th>\n",
       "      <td>2</td>\n",
       "      <td>3</td>\n",
       "      <td>177.405292</td>\n",
       "    </tr>\n",
       "    <tr>\n",
       "      <th>92</th>\n",
       "      <td>1</td>\n",
       "      <td>3</td>\n",
       "      <td>178.141644</td>\n",
       "    </tr>\n",
       "    <tr>\n",
       "      <th>93</th>\n",
       "      <td>2</td>\n",
       "      <td>3</td>\n",
       "      <td>177.710613</td>\n",
       "    </tr>\n",
       "    <tr>\n",
       "      <th>94</th>\n",
       "      <td>1</td>\n",
       "      <td>3</td>\n",
       "      <td>177.687264</td>\n",
       "    </tr>\n",
       "    <tr>\n",
       "      <th>95</th>\n",
       "      <td>2</td>\n",
       "      <td>3</td>\n",
       "      <td>177.118176</td>\n",
       "    </tr>\n",
       "  </tbody>\n",
       "</table>\n",
       "<p>96 rows × 3 columns</p>\n",
       "</div>"
      ],
      "text/plain": [
       "    density  fertilizer  yield_data\n",
       "0         1           1  177.228692\n",
       "1         2           1  177.550041\n",
       "2         1           1  176.408462\n",
       "3         2           1  177.703625\n",
       "4         1           1  177.125486\n",
       "..      ...         ...         ...\n",
       "91        2           3  177.405292\n",
       "92        1           3  178.141644\n",
       "93        2           3  177.710613\n",
       "94        1           3  177.687264\n",
       "95        2           3  177.118176\n",
       "\n",
       "[96 rows x 3 columns]"
      ]
     },
     "execution_count": 2,
     "metadata": {},
     "output_type": "execute_result"
    }
   ],
   "source": [
    "data = pd.read_csv(\"Task2_data.csv\")\n",
    "data = data.drop(columns=\"block\").rename(columns={'yield': 'yield_data'})\n",
    "data"
   ]
  },
  {
   "cell_type": "code",
   "execution_count": 3,
   "metadata": {
    "ExecuteTime": {
     "end_time": "2023-05-27T22:59:52.272635400Z",
     "start_time": "2023-05-27T22:59:52.214930Z"
    }
   },
   "outputs": [],
   "source": [
    "formula = \"yield_data ~ C(density) + C(fertilizer) + C(density):C(fertilizer)\"\n",
    "model = ols(formula, data).fit()"
   ]
  },
  {
   "cell_type": "markdown",
   "metadata": {},
   "source": [
    "Посмотрим на остатки"
   ]
  },
  {
   "cell_type": "code",
   "execution_count": 4,
   "metadata": {
    "ExecuteTime": {
     "end_time": "2023-05-27T23:00:09.442706600Z",
     "start_time": "2023-05-27T23:00:09.397547400Z"
    }
   },
   "outputs": [
    {
     "data": {
      "text/plain": [
       "<Axes: >"
      ]
     },
     "execution_count": 4,
     "metadata": {},
     "output_type": "execute_result"
    },
    {
     "data": {
      "image/png": "[encoded data removed]",
      "text/plain": [
       "<Figure size 640x480 with 1 Axes>"
      ]
     },
     "metadata": {},
     "output_type": "display_data"
    }
   ],
   "source": [
    "model.resid.hist()"
   ]
  },
  {
   "cell_type": "markdown",
   "source": [
    "Из далека выглядит как совсем чуть-чуть скошенное нормальное распределение. Дополнительно проверим тестом Шапиро.\n",
    "\n"
   ],
   "metadata": {
    "collapsed": false
   }
  },
  {
   "cell_type": "code",
   "execution_count": 13,
   "outputs": [
    {
     "name": "stdout",
     "output_type": "stream",
     "text": [
      "Shapiro p-value: 36.01%\n"
     ]
    }
   ],
   "source": [
    "p_val: float = st.shapiro(model.resid).pvalue\n",
    "print(f\"Shapiro p-value: {p_val*100:.2f}%\")"
   ],
   "metadata": {
    "collapsed": false,
    "ExecuteTime": {
     "end_time": "2023-05-27T23:07:15.891902800Z",
     "start_time": "2023-05-27T23:07:15.849832900Z"
    }
   }
  },
  {
   "cell_type": "markdown",
   "source": [
    "Мы не можем отвергнуть гипотезу о том, что остатки распределены нормально. Теперь проеврим гомогенность дисперсий."
   ],
   "metadata": {
    "collapsed": false
   }
  },
  {
   "cell_type": "code",
   "execution_count": 14,
   "outputs": [
    {
     "name": "stdout",
     "output_type": "stream",
     "text": [
      "Levene p-value: 97.68%\n"
     ]
    }
   ],
   "source": [
    "dens: str = \"density\"\n",
    "fert: str = \"fertilizer\"\n",
    "\n",
    "groups = []\n",
    "for x in data[dens].unique():\n",
    "    for y in data[fert].unique():\n",
    "        gr1 = data[data[dens] == x]\n",
    "        groups.append(gr1[gr1[fert] == y][\"yield_data\"])\n",
    "\n",
    "p_val = st.levene(*groups).pvalue\n",
    "print(f\"Levene p-value: {p_val*100:.2f}%\")"
   ],
   "metadata": {
    "collapsed": false,
    "ExecuteTime": {
     "end_time": "2023-05-27T23:15:16.555297600Z",
     "start_time": "2023-05-27T23:15:16.516486400Z"
    }
   }
  },
  {
   "cell_type": "markdown",
   "source": [
    "Гипотеза о гомогенности дисперсий не может быть отвергнута.\n",
    "\n",
    "Мы не смогли отвергнуть гипотезы о нормальном распределении остатков и гомогенности дисперсий и можем с относительно большой уверенностью использовать _Anova_."
   ],
   "metadata": {
    "collapsed": false
   }
  },
  {
   "cell_type": "code",
   "execution_count": 17,
   "outputs": [
    {
     "data": {
      "text/plain": "                             sum_sq    df          F    PR(>F)\nC(density)                 5.121681   1.0  15.194517  0.000186\nC(fertilizer)              6.068047   2.0   9.001052  0.000273\nC(density):C(fertilizer)   0.427818   2.0   0.634605  0.532500\nResidual                  30.336687  90.0        NaN       NaN",
      "text/html": "<div>\n<style scoped>\n    .dataframe tbody tr th:only-of-type {\n        vertical-align: middle;\n    }\n\n    .dataframe tbody tr th {\n        vertical-align: top;\n    }\n\n    .dataframe thead th {\n        text-align: right;\n    }\n</style>\n<table border=\"1\" class=\"dataframe\">\n  <thead>\n    <tr style=\"text-align: right;\">\n      <th></th>\n      <th>sum_sq</th>\n      <th>df</th>\n      <th>F</th>\n      <th>PR(&gt;F)</th>\n    </tr>\n  </thead>\n  <tbody>\n    <tr>\n      <th>C(density)</th>\n      <td>5.121681</td>\n      <td>1.0</td>\n      <td>15.194517</td>\n      <td>0.000186</td>\n    </tr>\n    <tr>\n      <th>C(fertilizer)</th>\n      <td>6.068047</td>\n      <td>2.0</td>\n      <td>9.001052</td>\n      <td>0.000273</td>\n    </tr>\n    <tr>\n      <th>C(density):C(fertilizer)</th>\n      <td>0.427818</td>\n      <td>2.0</td>\n      <td>0.634605</td>\n      <td>0.532500</td>\n    </tr>\n    <tr>\n      <th>Residual</th>\n      <td>30.336687</td>\n      <td>90.0</td>\n      <td>NaN</td>\n      <td>NaN</td>\n    </tr>\n  </tbody>\n</table>\n</div>"
     },
     "execution_count": 17,
     "metadata": {},
     "output_type": "execute_result"
    }
   ],
   "source": [
    "anova_table = anova_lm(model, typ=2)  # two-way Anova\n",
    "anova_table"
   ],
   "metadata": {
    "collapsed": false,
    "ExecuteTime": {
     "end_time": "2023-05-27T23:22:29.133171700Z",
     "start_time": "2023-05-27T23:22:29.048203600Z"
    }
   }
  },
  {
   "cell_type": "markdown",
   "source": [
    "Для плотности и удобрения отклоним нулевую гипотезу о том, что разница между группами незначительна. При этом мы не можем отклонить нулевую гипотезу о том, что взаимодействие факторов незначительно.\n",
    "\n",
    "Визуализируем группы."
   ],
   "metadata": {
    "collapsed": false
   }
  },
  {
   "cell_type": "code",
   "execution_count": 62,
   "outputs": [
    {
     "data": {
      "text/plain": "<Axes: >"
     },
     "execution_count": 62,
     "metadata": {},
     "output_type": "execute_result"
    },
    {
     "data": {
      "text/plain": "<Figure size 640x480 with 1 Axes>",
      "image/png": "[encoded data removed]"
     },
     "metadata": {},
     "output_type": "display_data"
    }
   ],
   "source": [
    "yld = data[\"yield_data\"]\n",
    "gr_dens = pd.DataFrame()\n",
    "for f in data[dens].unique():\n",
    "    gr = yld[data[dens] == f].reset_index(drop=True)\n",
    "    gr_dens[f\"Density {f}\"] = gr\n",
    "\n",
    "gr_dens.boxplot()"
   ],
   "metadata": {
    "collapsed": false,
    "ExecuteTime": {
     "end_time": "2023-05-28T00:01:57.111078800Z",
     "start_time": "2023-05-28T00:01:56.800580900Z"
    }
   }
  },
  {
   "cell_type": "code",
   "execution_count": 65,
   "outputs": [
    {
     "data": {
      "text/plain": "<Axes: >"
     },
     "execution_count": 65,
     "metadata": {},
     "output_type": "execute_result"
    },
    {
     "data": {
      "text/plain": "<Figure size 640x480 with 1 Axes>",
      "image/png": "[encoded data removed]"
     },
     "metadata": {},
     "output_type": "display_data"
    }
   ],
   "source": [
    "gr_fert = pd.DataFrame()\n",
    "for f in data[fert].unique():\n",
    "    gr = yld[data[fert] == f].reset_index(drop=True)\n",
    "    gr_fert[f\"Fertilizer {f}\"] = gr\n",
    "\n",
    "gr_fert.boxplot()"
   ],
   "metadata": {
    "collapsed": false,
    "ExecuteTime": {
     "end_time": "2023-05-28T00:03:18.848281800Z",
     "start_time": "2023-05-28T00:03:18.544422500Z"
    }
   }
  },
  {
   "cell_type": "markdown",
   "source": [
    "Визуально мы модем сказать, что плотность 2 и удобрение 3 дают лучший результат в своих категориях. Сравним их с помощью теста Тьюки."
   ],
   "metadata": {
    "collapsed": false
   }
  },
  {
   "cell_type": "markdown",
   "source": [],
   "metadata": {
    "collapsed": false
   }
  },
  {
   "cell_type": "code",
   "execution_count": 80,
   "outputs": [],
   "source": [
    "def cute_table(matrix: np.ndarray, names: list[str]):\n",
    "    return pd.DataFrame(matrix, columns=names, index=names)\n",
    "\n",
    "def cute_tukey(df: pd.DataFrame):\n",
    "    res = st.tukey_hsd(*df.to_numpy().T)\n",
    "    print('p-value:')\n",
    "    print(cute_table(res.pvalue, df.columns))\n",
    "    print('Statistic:')\n",
    "    print(cute_table(res.statistic, df.columns))"
   ],
   "metadata": {
    "collapsed": false,
    "ExecuteTime": {
     "end_time": "2023-05-28T00:25:50.368195700Z",
     "start_time": "2023-05-28T00:25:50.356618900Z"
    }
   }
  },
  {
   "cell_type": "code",
   "execution_count": 81,
   "outputs": [
    {
     "name": "stdout",
     "output_type": "stream",
     "text": [
      "Density\n",
      "p-value:\n",
      "           Density 1  Density 2\n",
      "Density 1   1.000000   0.000485\n",
      "Density 2   0.000485   1.000000\n",
      "Statistic:\n",
      "           Density 1  Density 2\n",
      "Density 1   0.000000  -0.461956\n",
      "Density 2   0.461956   0.000000\n"
     ]
    }
   ],
   "source": [
    "print(\"Density\")\n",
    "cute_tukey(gr_dens)"
   ],
   "metadata": {
    "collapsed": false,
    "ExecuteTime": {
     "end_time": "2023-05-28T00:27:27.216390700Z",
     "start_time": "2023-05-28T00:27:27.185523500Z"
    }
   }
  },
  {
   "cell_type": "markdown",
   "source": [
    "**Для плотности**: Нулевая гипотеза о том, что группы неразличны отклонена из-за низкого p-value, что подтверждает визуальные наблюдения, статистика подтверждает большее среднее у группы 2."
   ],
   "metadata": {
    "collapsed": false
   }
  },
  {
   "cell_type": "code",
   "execution_count": 82,
   "outputs": [
    {
     "name": "stdout",
     "output_type": "stream",
     "text": [
      "Fertilizer\n",
      "p-value:\n",
      "              Fertilizer 1  Fertilizer 2  Fertilizer 3\n",
      "Fertilizer 1      1.000000      0.495471      0.000612\n",
      "Fertilizer 2      0.495471      1.000000      0.020873\n",
      "Fertilizer 3      0.000612      0.020873      1.000000\n",
      "Statistic:\n",
      "              Fertilizer 1  Fertilizer 2  Fertilizer 3\n",
      "Fertilizer 1      0.000000     -0.176169     -0.599126\n",
      "Fertilizer 2      0.176169      0.000000     -0.422957\n",
      "Fertilizer 3      0.599126      0.422957      0.000000\n"
     ]
    }
   ],
   "source": [
    "print(\"Fertilizer\")\n",
    "cute_tukey(gr_fert)"
   ],
   "metadata": {
    "collapsed": false,
    "ExecuteTime": {
     "end_time": "2023-05-28T00:29:29.184581400Z",
     "start_time": "2023-05-28T00:29:29.113418200Z"
    }
   }
  },
  {
   "cell_type": "markdown",
   "source": [
    "**Для удобрения**: Мы не можем отклонить гипотезу о том, что группы 1 и 2 различны и не можем отклонить эту гипотезу для групп 2 и 3 при $\\alpha = 0.01$ (но можем отклонить при $\\alpha = 0.05$)\n",
    "\n",
    "Тогда с уверенностью мы можем сказать, что лишь группы 1 и 3 сильно различаются, при этом группа 3 даёт лучшие результаты."
   ],
   "metadata": {
    "collapsed": false
   }
  },
  {
   "cell_type": "markdown",
   "metadata": {},
   "source": [
    "# Задача 3. Оценка эффективности программы тренировок.\n",
    "\n",
    "Предположим, что мы хотим узнать, оказывает ли эффект программа\n",
    "тренировок на пульс в покое у тех, кто её проходит. Мы отслеживали данный\n",
    "параметр у 5 людей в течение 8 месяцев и результаты получились\n",
    "следующие:\n",
    "\n",
    "![(Table)](hw3_task3_table.png)\n",
    "\n",
    "Проведите анализ того, оказывает ли программа эффект на ЧСС в покое.\n",
    "Анализ должен быть подкреплён одним соответствующим тестом.\n"
   ]
  },
  {
   "cell_type": "markdown",
   "source": [
    "## Решение\n",
    "\n",
    "Для того чтобы понять есть ли результаты после участия в программе, мы можем сравнить различны ли средние показатели с помощью теста Тьюки.\n",
    "\n",
    "Сначала посмотрим визуально.\n"
   ],
   "metadata": {
    "collapsed": false
   }
  },
  {
   "cell_type": "code",
   "execution_count": 87,
   "metadata": {
    "ExecuteTime": {
     "end_time": "2023-05-28T00:46:24.453136400Z",
     "start_time": "2023-05-28T00:46:24.328605600Z"
    }
   },
   "outputs": [
    {
     "data": {
      "text/plain": "<Axes: >"
     },
     "execution_count": 87,
     "metadata": {},
     "output_type": "execute_result"
    },
    {
     "data": {
      "text/plain": "<Figure size 640x480 with 1 Axes>",
      "image/png": "[encoded data removed]"
     },
     "metadata": {},
     "output_type": "display_data"
    }
   ],
   "source": [
    "office_data = pd.read_csv(\"Task3_data.csv\").drop(columns=\"Subject\")\n",
    "office_data.boxplot()"
   ]
  },
  {
   "cell_type": "markdown",
   "source": [
    "Визуально разница в разбросе значений очень заметна, но в то же время видно, что средние значения не сильно меняются."
   ],
   "metadata": {
    "collapsed": false
   }
  },
  {
   "cell_type": "code",
   "execution_count": 88,
   "outputs": [
    {
     "name": "stdout",
     "output_type": "stream",
     "text": [
      "p-value:\n",
      "            Before   4 Month   8 Month\n",
      " Before   1.000000  0.492047  0.337121\n",
      " 4 Month  0.492047  1.000000  0.950731\n",
      " 8 Month  0.337121  0.950731  1.000000\n",
      "Statistic:\n",
      "           Before   4 Month   8 Month\n",
      " Before       0.0       5.4       6.8\n",
      " 4 Month     -5.4       0.0       1.4\n",
      " 8 Month     -6.8      -1.4       0.0\n"
     ]
    }
   ],
   "source": [
    "cute_tukey(office_data)"
   ],
   "metadata": {
    "collapsed": false,
    "ExecuteTime": {
     "end_time": "2023-05-28T00:47:59.098740700Z",
     "start_time": "2023-05-28T00:47:59.032588Z"
    }
   }
  },
  {
   "cell_type": "markdown",
   "source": [
    "По итогам теста Тьюки мы не можем отвергнуть нулевую гипотезу о том, что группы неразличны ни для одной пары групп.\n",
    "Хотя визуально уменьшение пульса есть, мы не можем с уверенностью сказать, что программа оказывает какой-то эффект."
   ],
   "metadata": {
    "collapsed": false
   }
  }
 ],
 "metadata": {
  "kernelspec": {
   "display_name": "Python 3 (ipykernel)",
   "language": "python",
   "name": "python3"
  },
  "language_info": {
   "codemirror_mode": {
    "name": "ipython",
    "version": 3
   },
   "file_extension": ".py",
   "mimetype": "text/x-python",
   "name": "python",
   "nbconvert_exporter": "python",
   "pygments_lexer": "ipython3",
   "version": "3.10.10"
  }
 },
 "nbformat": 4,
 "nbformat_minor": 1
}
