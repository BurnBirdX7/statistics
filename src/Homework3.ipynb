{
 "cells": [
  {
   "cell_type": "code",
   "execution_count": 1,
   "outputs": [],
   "source": [
    "import pandas as pd\n",
    "import scipy.stats as st\n",
    "import statsmodels.api as sm"
   ],
   "metadata": {
    "collapsed": false,
    "ExecuteTime": {
     "end_time": "2023-05-27T22:24:55.202181400Z",
     "start_time": "2023-05-27T22:24:49.308609100Z"
    }
   }
  },
  {
   "cell_type": "markdown",
   "source": [
    "### Тесты\n",
    "1) **ANOVA** – тест, предназначенный для сравнения средних значений между группами. Может сравнивать различие по одной категорной переменной, по паре, по их взаимодействию, а также с учётом зависимых измерений. Требует нормальности остатков, гомогенности дисперсий, а также достаточно большого количества.\n",
    "2) **Тест Тьюки** определяет, состоит ли ваша выборка из групп, которые отличаются друг от друга. Каждое среднее сравнивается со средним всех других групп с помощью \"Честной значимой разницы\", которая показывает, насколько далеко друг от друга находятся группы. Нередко используется для анализа результатов, полученных с помощью ANOVA (можно проверять предположения, сделанные на основе визуального анализа – что среднее одной группы превосходит среднее по всем остальным).\n"
   ],
   "metadata": {
    "collapsed": false
   }
  },
  {
   "cell_type": "markdown",
   "source": [
    "# Задача 1. Сравнение эффективности программ подготовки к экзаменам.\n",
    "Предположим, что мы хотим узнать, одинаковы ли по эффективности три разных программ подготовки к экзаменам. Ниже приведена таблица с оценками студентов, обучавшихся по соответственным программам.\n",
    "\n",
    "![(Таблица)](hw3_task1_table.png)\n",
    "\n",
    "Проведите анализ того, различаются ли программы по эффективности и\n",
    "предположите, какая из них наилучшая/наихудшая. Оба пункта следует\n",
    "подкрепить соответствующими методами."
   ],
   "metadata": {
    "collapsed": false
   }
  },
  {
   "cell_type": "markdown",
   "source": [
    "## Решение\n",
    "\n",
    "Для данной задачи подходит тест Тьюки так как он позволяет определить насколько группы различны."
   ],
   "metadata": {
    "collapsed": false
   }
  },
  {
   "cell_type": "code",
   "execution_count": 2,
   "outputs": [
    {
     "data": {
      "text/plain": "   group 1  group 2  group 3\n0       85       91       79\n1       86       92       78\n2       88       93       88\n3       75       85       94\n4       78       87       92\n5       94       84       85\n6       98       82       83\n7       79       88       85\n8       71       95       82\n9       80       96       81",
      "text/html": "<div>\n<style scoped>\n    .dataframe tbody tr th:only-of-type {\n        vertical-align: middle;\n    }\n\n    .dataframe tbody tr th {\n        vertical-align: top;\n    }\n\n    .dataframe thead th {\n        text-align: right;\n    }\n</style>\n<table border=\"1\" class=\"dataframe\">\n  <thead>\n    <tr style=\"text-align: right;\">\n      <th></th>\n      <th>group 1</th>\n      <th>group 2</th>\n      <th>group 3</th>\n    </tr>\n  </thead>\n  <tbody>\n    <tr>\n      <th>0</th>\n      <td>85</td>\n      <td>91</td>\n      <td>79</td>\n    </tr>\n    <tr>\n      <th>1</th>\n      <td>86</td>\n      <td>92</td>\n      <td>78</td>\n    </tr>\n    <tr>\n      <th>2</th>\n      <td>88</td>\n      <td>93</td>\n      <td>88</td>\n    </tr>\n    <tr>\n      <th>3</th>\n      <td>75</td>\n      <td>85</td>\n      <td>94</td>\n    </tr>\n    <tr>\n      <th>4</th>\n      <td>78</td>\n      <td>87</td>\n      <td>92</td>\n    </tr>\n    <tr>\n      <th>5</th>\n      <td>94</td>\n      <td>84</td>\n      <td>85</td>\n    </tr>\n    <tr>\n      <th>6</th>\n      <td>98</td>\n      <td>82</td>\n      <td>83</td>\n    </tr>\n    <tr>\n      <th>7</th>\n      <td>79</td>\n      <td>88</td>\n      <td>85</td>\n    </tr>\n    <tr>\n      <th>8</th>\n      <td>71</td>\n      <td>95</td>\n      <td>82</td>\n    </tr>\n    <tr>\n      <th>9</th>\n      <td>80</td>\n      <td>96</td>\n      <td>81</td>\n    </tr>\n  </tbody>\n</table>\n</div>"
     },
     "execution_count": 2,
     "metadata": {},
     "output_type": "execute_result"
    }
   ],
   "source": [
    "data = pd.read_csv(\"students.csv\")\n",
    "data"
   ],
   "metadata": {
    "collapsed": false,
    "ExecuteTime": {
     "end_time": "2023-05-27T22:24:55.246636500Z",
     "start_time": "2023-05-27T22:24:55.206431100Z"
    }
   }
  },
  {
   "cell_type": "code",
   "execution_count": 3,
   "outputs": [
    {
     "data": {
      "text/plain": "          Group 1   Group 2   Group 3\nGroup 1  1.000000  0.115991  0.892477\nGroup 2  0.115991  1.000000  0.258352\nGroup 3  0.892477  0.258352  1.000000",
      "text/html": "<div>\n<style scoped>\n    .dataframe tbody tr th:only-of-type {\n        vertical-align: middle;\n    }\n\n    .dataframe tbody tr th {\n        vertical-align: top;\n    }\n\n    .dataframe thead th {\n        text-align: right;\n    }\n</style>\n<table border=\"1\" class=\"dataframe\">\n  <thead>\n    <tr style=\"text-align: right;\">\n      <th></th>\n      <th>Group 1</th>\n      <th>Group 2</th>\n      <th>Group 3</th>\n    </tr>\n  </thead>\n  <tbody>\n    <tr>\n      <th>Group 1</th>\n      <td>1.000000</td>\n      <td>0.115991</td>\n      <td>0.892477</td>\n    </tr>\n    <tr>\n      <th>Group 2</th>\n      <td>0.115991</td>\n      <td>1.000000</td>\n      <td>0.258352</td>\n    </tr>\n    <tr>\n      <th>Group 3</th>\n      <td>0.892477</td>\n      <td>0.258352</td>\n      <td>1.000000</td>\n    </tr>\n  </tbody>\n</table>\n</div>"
     },
     "execution_count": 3,
     "metadata": {},
     "output_type": "execute_result"
    }
   ],
   "source": [
    "res = st.tukey_hsd(*data.to_numpy().T)\n",
    "groups = ['Group 1', 'Group 2', 'Group 3']\n",
    "pd.DataFrame(res.pvalue, columns=groups, index=groups)"
   ],
   "metadata": {
    "collapsed": false,
    "ExecuteTime": {
     "end_time": "2023-05-27T22:24:55.437429100Z",
     "start_time": "2023-05-27T22:24:55.246636500Z"
    }
   }
  },
  {
   "cell_type": "markdown",
   "source": [
    "$H_0$ - группы не различны. В данном случае мы не можем отвергнуть эту гипотезу ни для одной пары групп. Следовательно, группы примерно одинаковы в плане эффективности.\n",
    "\n",
    "Посмотрим на значение статистики:"
   ],
   "metadata": {
    "collapsed": false
   }
  },
  {
   "cell_type": "code",
   "execution_count": 4,
   "outputs": [
    {
     "data": {
      "text/plain": "         Group 1  Group 2  Group 3\nGroup 1      0.0     -5.9     -1.3\nGroup 2      5.9      0.0      4.6\nGroup 3      1.3     -4.6      0.0",
      "text/html": "<div>\n<style scoped>\n    .dataframe tbody tr th:only-of-type {\n        vertical-align: middle;\n    }\n\n    .dataframe tbody tr th {\n        vertical-align: top;\n    }\n\n    .dataframe thead th {\n        text-align: right;\n    }\n</style>\n<table border=\"1\" class=\"dataframe\">\n  <thead>\n    <tr style=\"text-align: right;\">\n      <th></th>\n      <th>Group 1</th>\n      <th>Group 2</th>\n      <th>Group 3</th>\n    </tr>\n  </thead>\n  <tbody>\n    <tr>\n      <th>Group 1</th>\n      <td>0.0</td>\n      <td>-5.9</td>\n      <td>-1.3</td>\n    </tr>\n    <tr>\n      <th>Group 2</th>\n      <td>5.9</td>\n      <td>0.0</td>\n      <td>4.6</td>\n    </tr>\n    <tr>\n      <th>Group 3</th>\n      <td>1.3</td>\n      <td>-4.6</td>\n      <td>0.0</td>\n    </tr>\n  </tbody>\n</table>\n</div>"
     },
     "execution_count": 4,
     "metadata": {},
     "output_type": "execute_result"
    }
   ],
   "source": [
    "pd.DataFrame(res.statistic, columns=groups, index=groups)"
   ],
   "metadata": {
    "collapsed": false,
    "ExecuteTime": {
     "end_time": "2023-05-27T22:24:55.452822300Z",
     "start_time": "2023-05-27T22:24:55.437429100Z"
    }
   }
  },
  {
   "cell_type": "markdown",
   "source": [
    "Группа 2 имеет наивысшее среднее из всех значений статистики, но невозможно однозначно называть её лучшей - поскольку ранее заключили, что эффективностью она не отличается от остальных групп.\n",
    "\n",
    "Посмотрим на график:"
   ],
   "metadata": {
    "collapsed": false
   }
  },
  {
   "cell_type": "code",
   "execution_count": 5,
   "outputs": [
    {
     "data": {
      "text/plain": "<Axes: >"
     },
     "execution_count": 5,
     "metadata": {},
     "output_type": "execute_result"
    },
    {
     "data": {
      "text/plain": "<Figure size 640x480 with 1 Axes>",
      "image/png": "[encoded data removed]"
     },
     "metadata": {},
     "output_type": "display_data"
    }
   ],
   "source": [
    "data.boxplot()"
   ],
   "metadata": {
    "collapsed": false,
    "ExecuteTime": {
     "end_time": "2023-05-27T22:24:56.385078300Z",
     "start_time": "2023-05-27T22:24:55.452822300Z"
    }
   }
  },
  {
   "cell_type": "markdown",
   "source": [
    "# Задача 3. Оценка эффективности программы тренировок.\n",
    "\n",
    "Предположим, что мы хотим узнать, оказывает ли эффект программа\n",
    "тренировок на пульс в покое у тех, кто её проходит. Мы отслеживали данный\n",
    "параметр у 5 людей в течение 8 месяцев и результаты получились\n",
    "следующие:\n",
    "\n",
    "![(Table)](hw3_task3_table.png)\n",
    "\n",
    "Проведите анализ того, оказывает ли программа эффект на ЧСС в покое.\n",
    "Анализ должен быть подкреплён одним соответствующим тестом.\n"
   ],
   "metadata": {
    "collapsed": false
   }
  }
 ],
 "metadata": {
  "kernelspec": {
   "display_name": "Python 3",
   "language": "python",
   "name": "python3"
  },
  "language_info": {
   "codemirror_mode": {
    "name": "ipython",
    "version": 2
   },
   "file_extension": ".py",
   "mimetype": "text/x-python",
   "name": "python",
   "nbconvert_exporter": "python",
   "pygments_lexer": "ipython2",
   "version": "2.7.6"
  }
 },
 "nbformat": 4,
 "nbformat_minor": 0
}
