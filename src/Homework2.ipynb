{
 "cells": [
  {
   "cell_type": "code",
   "execution_count": 10,
   "outputs": [],
   "source": [
    "import matplotlib.pyplot as plt\n",
    "import scipy.stats as st"
   ],
   "metadata": {
    "collapsed": false,
    "ExecuteTime": {
     "end_time": "2023-05-22T19:32:27.404368700Z",
     "start_time": "2023-05-22T19:32:27.346208700Z"
    }
   }
  },
  {
   "cell_type": "markdown",
   "source": [
    "# Тесты\n",
    "1) Биномиальный тест\n",
    "   сравнение долей бинарных переменных.\n",
    "2) Тест хи-квадрат + G-тест\n",
    "   проверка независимости бинарных переменных.\n",
    "3) Тест Мак-Немара\n",
    "   сравнение бинарных переменных при зависимых измерениях.\n",
    "4) Точный тест Фишера\n",
    "   независимость групп на основе малого количества наблюдений\n",
    "   (асимптотики для хи-квадрат и G-теста не выполняются).\n",
    "5) Q-критерий Кохрена\n",
    "   проверка влияния двух или более воздействий на группы,\n",
    "   если отклик – бинарная переменная.\n",
    "6) Коэффициент корреляции фи\n",
    "   коэффициент связи между категориальными переменными.\n",
    "   Позволяет, например, оценить, случайно ли кто-то даёт ответ,\n",
    "   или же его ответы связаны с истинными."
   ],
   "metadata": {
    "collapsed": false
   }
  },
  {
   "cell_type": "markdown",
   "source": [
    "# Задача 1. Проверка эффективности рекламы.\n",
    "Фирма рассылает рекламные каталоги возможным заказчикам. По данным аналитиков, вероятность того, что организация получившая каталог, закажет рекламируемое изделие, равна 0,08.\n",
    "\n",
    "Фирма разослала 1000 каталогов новой, улучшенной, формы и получила 100 заказов. Выяснить на уровне значимости 0.05, можно ли утверждать,\n",
    "что обновлённая форма существенно лучше прежней.\n",
    "\n",
    "## Критерий\n",
    "Рассмотрим количество заказов как биномиальную случайную величину, где успех - это заказ товара, а неудача - отсутствие заказа.\n",
    "\n",
    "Используем биномиальный тест, поскольку он позволяет оценить отклонение эмпирических результатов от нулевой гипотезы.\n",
    "\n",
    "$p_{old} = 0.08$ - вероятность заказа с использованием старой формы \\\n",
    "$p_{new}$ - вероятность заказа с использованием новой формы\n",
    "\n",
    "$H_0: p_{old} = p_{new}$ \\\n",
    "$H_1: p_{old} < p_{new}$\n"
   ],
   "metadata": {
    "collapsed": false
   }
  },
  {
   "cell_type": "code",
   "execution_count": 11,
   "outputs": [],
   "source": [
    "alpha = 0.05\n",
    "n_sent = 1000   # Число отправленных каталогов\n",
    "n_orders = 100  # Число заказов\n",
    "p_old = 0.08\n",
    "\n",
    "h0_dist = st.binom(n = n_sent, p = p_old)"
   ],
   "metadata": {
    "collapsed": false,
    "ExecuteTime": {
     "end_time": "2023-05-22T19:32:27.420390900Z",
     "start_time": "2023-05-22T19:32:27.379215800Z"
    }
   }
  },
  {
   "cell_type": "code",
   "execution_count": 12,
   "outputs": [
    {
     "data": {
      "text/plain": "<Figure size 640x480 with 1 Axes>",
      "image/png": "[encoded data removed]"
     },
     "metadata": {},
     "output_type": "display_data"
    }
   ],
   "source": [
    "# plot\n",
    "x = [i for i in range(n_sent + 1)]\n",
    "y = [h0_dist.cdf(i) for i in x]\n",
    "\n",
    "plt.plot(x, y)\n",
    "plt.axvline(n_orders, c='red')\n",
    "plt.show()"
   ],
   "metadata": {
    "collapsed": false,
    "ExecuteTime": {
     "end_time": "2023-05-22T19:32:27.596254500Z",
     "start_time": "2023-05-22T19:32:27.420390900Z"
    }
   }
  },
  {
   "cell_type": "code",
   "execution_count": 13,
   "outputs": [
    {
     "name": "stdout",
     "output_type": "stream",
     "text": [
      "p-value: 0.01014565589566041037\n",
      "p-value меньше заданного уровня значимости. Отвергаем нулевую гипотезу.\n"
     ]
    }
   ],
   "source": [
    "# p-value\n",
    "p_val = 1 - h0_dist.cdf(n_orders)\n",
    "print(f\"p-value: {p_val:.20f}\")\n",
    "\n",
    "if p_val < alpha:\n",
    "    print(\"p-value меньше заданного уровня значимости. \"\n",
    "          \"Отвергаем нулевую гипотезу.\")\n",
    "else:\n",
    "    print(\"Принимаем нулевую гипотезу гипотезу.\")"
   ],
   "metadata": {
    "collapsed": false,
    "ExecuteTime": {
     "end_time": "2023-05-22T19:32:27.615085900Z",
     "start_time": "2023-05-22T19:32:27.596254500Z"
    }
   }
  },
  {
   "cell_type": "markdown",
   "source": [
    "# Задача 2. Сравнение стилей интервью\n",
    "Предположим, мы исследуем влияние стиля интервьюера\n",
    "(мы выделили 3 стиля - резкий, формальный и дружелюбный) на число респондентов,\n",
    "которые согласятся дать ответы на личные вопросы в очном опросе.\n",
    "У нас было 300 респондентов, которые были равномерно разделены на 3 группы.\n",
    "В итоге в первой группе согласилось ответить 45 человек, во второй - 80,\n",
    "а в третьей - 69. Что можно сказать о влиянии стиля на расположенность\n",
    "респондентов к ответу?\n",
    "\n",
    "## Выбор критерия\n"
   ],
   "metadata": {
    "collapsed": false
   }
  },
  {
   "cell_type": "markdown",
   "source": [
    "# Задача 3. Выявление экстрасенсорики.\n",
    "Предположим, что к нам пришёл человек и утверждает, что может на основе\n",
    "предмета, принадлежащего кому-либо, определить, является ли данный\n",
    "человек преступником. Мы провели строго контролируемый\n",
    "рандомизированный эксперимент, после чего выяснилось следующее:\n",
    "\n",
    "* Когда предмет принадлежал преступнику, человек определил это верно в\n",
    "  7 случаях и неверно в 5\n",
    "* Когда предмет принадлежал НЕ преступнику,\n",
    "  человек определил это верно в 40 случаях и неверно в 31\n",
    "\n",
    "Что мы можем сказать о его экстрасенсорных способностях?\n",
    "\n",
    "## Выбор критерия\n"
   ],
   "metadata": {
    "collapsed": false
   }
  },
  {
   "cell_type": "markdown",
   "source": [
    "# Задача 4. Проверка связи на основе малых данных.\n",
    "Предположим, мы хотим знать, связан ли пол с предпочтениями\n",
    "политической партии. Мы берем простую случайную выборку из 25\n",
    "избирателей и опрашиваем их об их предпочтениях в отношении\n",
    "политических партий. В следующей таблице представлены результаты\n",
    "опроса:\n",
    "\n",
    "|        | Democrat | Republican | Total |\n",
    "|--------|----------|------------|-------|\n",
    "| Male   | 4        | 9          | 13    |\n",
    "| Female | 8        | 4          | 12    |\n",
    "| Total  | 12       | 13         | 25    |\n",
    "\n",
    "Необходимо проверить, связан ли пол с предпочтениями или нет.\n",
    "\n",
    "## Выбор критерия\n"
   ],
   "metadata": {
    "collapsed": false
   }
  }
 ],
 "metadata": {
  "kernelspec": {
   "display_name": "Python 3",
   "language": "python",
   "name": "python3"
  },
  "language_info": {
   "codemirror_mode": {
    "name": "ipython",
    "version": 2
   },
   "file_extension": ".py",
   "mimetype": "text/x-python",
   "name": "python",
   "nbconvert_exporter": "python",
   "pygments_lexer": "ipython2",
   "version": "2.7.6"
  }
 },
 "nbformat": 4,
 "nbformat_minor": 0
}
