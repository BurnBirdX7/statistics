{
 "cells": [
  {
   "cell_type": "code",
   "execution_count": 1,
   "outputs": [],
   "source": [
    "from typing import Dict\n",
    "\n",
    "import numpy as np\n",
    "import matplotlib.pyplot as plt"
   ],
   "metadata": {
    "collapsed": false,
    "ExecuteTime": {
     "start_time": "2023-03-31T00:33:43.539972Z",
     "end_time": "2023-03-31T00:33:44.022972Z"
    }
   }
  },
  {
   "cell_type": "markdown",
   "source": [
    "## Задача 1. «Однорукий бандит»\n",
    "Пусть имеется игровой автомат с ручкой, с помощью которой его запускают\n",
    "для игры – «однорукий бандит». Предположим, что игра ведётся по\n",
    "следующей схеме:\n",
    "1) В начальный момент времени у игрока есть одна монета\n",
    "2) Вероятность выигрыша при запуске игры – 0.5. При выигрыше игрок\n",
    "   получает 1 монету. При проигрыше, соответственно, теряет 1 монету.\n",
    "3) Игра заканчивается либо, если игрок обанкротится (поражение), либо\n",
    "   если выиграет 10 монет (победа).\n",
    "Определить вероятность выигрыша. Также оценить среднее число шагов,\n",
    "требующееся для победы и для поражения."
   ],
   "metadata": {
    "collapsed": false
   }
  },
  {
   "cell_type": "code",
   "execution_count": 2,
   "outputs": [],
   "source": [
    "def play1() -> tuple[bool, int]:\n",
    "    coins: int = 1\n",
    "    steps: int = 0\n",
    "\n",
    "    while 0 < coins < 10:\n",
    "        steps += 1\n",
    "        op = np.random.randint(0, 2)\n",
    "        if op == 0:\n",
    "            coins += 1\n",
    "        else:\n",
    "            coins -= 1\n",
    "\n",
    "    return coins == 10, steps\n",
    "\n",
    "\n",
    "def task1() -> None:\n",
    "    sample_size: int = 500_000\n",
    "    wins = np.empty(sample_size, dtype=bool)\n",
    "    steps = np.empty(sample_size, dtype=int)\n",
    "\n",
    "    for i in range(sample_size):\n",
    "        wins[i], steps[i] = play1()\n",
    "\n",
    "    print(f'Win probability: {wins.sum() / sample_size}')\n",
    "    print(f'Average steps to win: {steps[wins].mean():.4f}')\n",
    "    print(f'Average steps to lose: {steps[~wins].mean():.4f}')"
   ],
   "metadata": {
    "collapsed": false,
    "ExecuteTime": {
     "start_time": "2023-03-31T00:33:44.012971Z",
     "end_time": "2023-03-31T00:33:44.025972Z"
    }
   }
  },
  {
   "cell_type": "code",
   "execution_count": 3,
   "outputs": [
    {
     "name": "stdout",
     "output_type": "stream",
     "text": [
      "Win probability: 0.099382\n",
      "Average steps to win: 33.0995\n",
      "Average steps to lose: 6.3309\n"
     ]
    }
   ],
   "source": [
    "task1()"
   ],
   "metadata": {
    "collapsed": false,
    "ExecuteTime": {
     "start_time": "2023-03-31T00:33:44.025972Z",
     "end_time": "2023-03-31T00:33:55.142970Z"
    }
   }
  },
  {
   "cell_type": "markdown",
   "source": [
    "Вероятность победить около 10%"
   ],
   "metadata": {
    "collapsed": false
   }
  },
  {
   "cell_type": "markdown",
   "source": [
    "## Задача 2. Распределение зерен по шахматной доске.\n",
    "На шахматную доску случайным образом бросают 64 зерна. Определить, как\n",
    "зерна по количеству распределятся в клетках – то есть, сколько, в среднем,\n",
    "клеток будет содержать N зёрен для каждого N."
   ],
   "metadata": {
    "collapsed": false
   }
  },
  {
   "cell_type": "code",
   "execution_count": 4,
   "outputs": [],
   "source": [
    "def throw():\n",
    "    return np.random.randint(0, 8), np.random.randint(0, 8)\n",
    "\n",
    "\n",
    "def play2() -> Dict[int, int]:\n",
    "    field = np.zeros([8, 8], dtype=np.int64)\n",
    "    for _ in range(64):\n",
    "        field[throw()] += 1\n",
    "\n",
    "    seed_counts, cell_counts = np.unique(field, return_counts=True)\n",
    "    return dict(zip(seed_counts, cell_counts))\n",
    "\n",
    "\n",
    "def task2():\n",
    "    data = np.zeros(65)\n",
    "    sample_size: int = 50_000\n",
    "\n",
    "    for _ in range(sample_size):\n",
    "        for seeds, cells in play2().items():\n",
    "            data[seeds] += cells\n",
    "\n",
    "    mean = data / sample_size\n",
    "\n",
    "    for i in range(10):\n",
    "        print(f'Mean number of cells with {i} seeds: {mean[i]}')\n",
    "    print(f'Mean number of cells with 10-64 seeds: {mean[10:].sum()}')\n",
    "\n",
    "    plt.bar(\n",
    "        np.arange(0, 65, 1, dtype=int), mean\n",
    "    )\n",
    "    plt.xlim(-1, 10)\n",
    "    plt.xticks(range(10), range(10))\n",
    "    plt.show()"
   ],
   "metadata": {
    "collapsed": false,
    "ExecuteTime": {
     "start_time": "2023-03-31T00:33:55.147003Z",
     "end_time": "2023-03-31T00:33:55.184000Z"
    }
   }
  },
  {
   "cell_type": "code",
   "execution_count": 5,
   "outputs": [
    {
     "name": "stdout",
     "output_type": "stream",
     "text": [
      "Mean number of cells with 0 seeds: 23.38686\n",
      "Mean number of cells with 1 seeds: 23.68326\n",
      "Mean number of cells with 2 seeds: 11.87744\n",
      "Mean number of cells with 3 seeds: 3.89576\n",
      "Mean number of cells with 4 seeds: 0.9454\n",
      "Mean number of cells with 5 seeds: 0.1793\n",
      "Mean number of cells with 6 seeds: 0.02794\n",
      "Mean number of cells with 7 seeds: 0.00352\n",
      "Mean number of cells with 8 seeds: 0.00048\n",
      "Mean number of cells with 9 seeds: 4e-05\n",
      "Mean number of cells with 10-64 seeds: 0.0\n"
     ]
    },
    {
     "data": {
      "text/plain": "<Figure size 640x480 with 1 Axes>",
      "image/png": "[encoded data removed]"
     },
     "metadata": {},
     "output_type": "display_data"
    }
   ],
   "source": [
    "task2()"
   ],
   "metadata": {
    "collapsed": false,
    "ExecuteTime": {
     "start_time": "2023-03-31T00:33:55.157970Z",
     "end_time": "2023-03-31T00:34:13.316970Z"
    }
   }
  },
  {
   "cell_type": "markdown",
   "source": [
    "В среднем чаще всего на клетках лежит 0 или 1 зерно"
   ],
   "metadata": {
    "collapsed": false
   }
  },
  {
   "cell_type": "markdown",
   "source": [
    "## Задача 3. Порядок на экзамене\n",
    "Экзамен проходит по следующей схеме: если некоторый билет уже был\n",
    "вытянут, то после ответа экзаменатор откладывает его в сторону. Студент\n",
    "выучил 20 билетов из 30. Когда ему выгоднее идти - первым или вторым,\n",
    "чтобы вероятность вынуть выученный билет была больше"
   ],
   "metadata": {
    "collapsed": false
   }
  },
  {
   "cell_type": "code",
   "execution_count": 6,
   "outputs": [],
   "source": [
    "def studied(num: int):\n",
    "    return 0 <= num < 20\n",
    "\n",
    "\n",
    "def play3(second: bool = False) -> bool:\n",
    "    tickets = list(range(30))\n",
    "\n",
    "    if second:\n",
    "        ch = np.random.choice(tickets)\n",
    "        tickets.remove(ch)\n",
    "\n",
    "    ch = np.random.choice(tickets)\n",
    "    return studied(ch)\n",
    "\n",
    "\n",
    "def task3():\n",
    "    sample_size: int = 1_000_000\n",
    "\n",
    "    success_first: int = 0\n",
    "    success_second: int = 0\n",
    "\n",
    "    for _ in range(sample_size):\n",
    "        if play3():\n",
    "            success_first += 1\n",
    "        if play3(second=True):\n",
    "            success_second += 1\n",
    "\n",
    "    print(f'Goes first, success chance:  {success_first / sample_size}')\n",
    "    print(f'Goes second, success chance: {success_second / sample_size}')"
   ],
   "metadata": {
    "collapsed": false,
    "ExecuteTime": {
     "start_time": "2023-03-31T00:34:13.295970Z",
     "end_time": "2023-03-31T00:34:13.317970Z"
    }
   }
  },
  {
   "cell_type": "code",
   "execution_count": 7,
   "outputs": [
    {
     "name": "stdout",
     "output_type": "stream",
     "text": [
      "Goes first, success chance:  0.666752\n",
      "Goes second, success chance: 0.665314\n"
     ]
    }
   ],
   "source": [
    "task3()"
   ],
   "metadata": {
    "collapsed": false,
    "ExecuteTime": {
     "start_time": "2023-03-31T00:34:13.310971Z",
     "end_time": "2023-03-31T00:34:54.429282Z"
    }
   }
  },
  {
   "cell_type": "markdown",
   "source": [
    "Шансы практически равны"
   ],
   "metadata": {
    "collapsed": false
   }
  },
  {
   "cell_type": "markdown",
   "source": [
    "## Не часть ДЗ\n",
    "Задача о 3х дверях"
   ],
   "metadata": {
    "collapsed": false
   }
  },
  {
   "cell_type": "code",
   "execution_count": 8,
   "outputs": [],
   "source": [
    "def door_game(player_changes):\n",
    "    prize = np.random.randint(3)\n",
    "    doors = list(range(3))\n",
    "    no_prize = doors.copy()\n",
    "    no_prize.remove(prize)\n",
    "\n",
    "    choice = np.random.choice(doors)\n",
    "\n",
    "    if choice in no_prize:\n",
    "        no_prize.remove(choice)\n",
    "\n",
    "    doors.remove(np.random.choice(no_prize))\n",
    "    if choice in doors:\n",
    "        doors.remove(choice)\n",
    "\n",
    "    if player_changes:\n",
    "        choice = doors[0]\n",
    "\n",
    "    return choice == prize"
   ],
   "metadata": {
    "collapsed": false,
    "ExecuteTime": {
     "start_time": "2023-03-31T00:34:54.433282Z",
     "end_time": "2023-03-31T00:34:54.473467Z"
    }
   }
  },
  {
   "cell_type": "code",
   "execution_count": 9,
   "outputs": [],
   "source": [
    "def my_task():\n",
    "    sample_size: int = 500_000\n",
    "\n",
    "    change: int = 0\n",
    "    no_change: int = 0\n",
    "\n",
    "    for i in range(sample_size):\n",
    "        if door_game(False):\n",
    "            no_change += 1\n",
    "        if door_game(True):\n",
    "            change += 1\n",
    "\n",
    "    print(f'No change chances: {no_change / sample_size}')\n",
    "    print(f'Chances with change: {change / sample_size}')\n"
   ],
   "metadata": {
    "collapsed": false,
    "ExecuteTime": {
     "start_time": "2023-03-31T00:34:54.447438Z",
     "end_time": "2023-03-31T00:34:54.476438Z"
    }
   }
  },
  {
   "cell_type": "code",
   "execution_count": 10,
   "outputs": [
    {
     "name": "stdout",
     "output_type": "stream",
     "text": [
      "No change chances: 0.333592\n",
      "Chances with change: 0.665738\n"
     ]
    }
   ],
   "source": [
    "my_task()"
   ],
   "metadata": {
    "collapsed": false,
    "ExecuteTime": {
     "start_time": "2023-03-31T00:34:54.465437Z",
     "end_time": "2023-03-31T00:35:23.877441Z"
    }
   }
  }
 ],
 "metadata": {
  "kernelspec": {
   "display_name": "Python 3",
   "language": "python",
   "name": "python3"
  },
  "language_info": {
   "codemirror_mode": {
    "name": "ipython",
    "version": 2
   },
   "file_extension": ".py",
   "mimetype": "text/x-python",
   "name": "python",
   "nbconvert_exporter": "python",
   "pygments_lexer": "ipython2",
   "version": "2.7.6"
  }
 },
 "nbformat": 4,
 "nbformat_minor": 0
}
